{
  "nbformat": 4,
  "nbformat_minor": 0,
  "metadata": {
    "kernelspec": {
      "display_name": "Python 3",
      "language": "python",
      "name": "python3"
    },
    "associatedRecipe": "compute_test",
    "creator": "nmartorell",
    "createdOn": 1658245661065,
    "tags": [
      "recipe-editor"
    ],
    "customFields": {}
  },
  "cells": [
    {
      "cell_type": "code",
      "metadata": {},
      "outputs": [],
      "execution_count": 0,
      "source": [
        "# -*- coding: utf-8 -*-\n",
        "import dataiku\n",
        "from dataiku import spark as dkuspark\n",
        "from pyspark import SparkContext\n",
        "from pyspark.sql import SQLContext\n",
        "\n",
        "sc \u003d SparkContext.getOrCreate()\n",
        "sqlContext \u003d SQLContext(sc)\n",
        "\n",
        "# Read recipe inputs\n",
        "SARINAPREFIXTEST_COPY \u003d dataiku.Dataset(\"SARINAPREFIXTEST_COPY\")\n",
        "SARINAPREFIXTEST_COPY_df \u003d dkuspark.get_dataframe(sqlContext, SARINAPREFIXTEST_COPY)\n",
        "\n",
        "# Compute recipe outputs from inputs\n",
        "# TODO: Replace this part by your actual code that computes the output, as a SparkSQL dataframe\n",
        "test_df \u003d SARINAPREFIXTEST_COPY_df # For this sample code, simply copy input to output\n",
        "\n",
        "# Write recipe outputs\n",
        "test \u003d dataiku.Dataset(\"test\")\n",
        "dkuspark.write_with_schema(test, test_df)"
      ]
    }
  ]
}