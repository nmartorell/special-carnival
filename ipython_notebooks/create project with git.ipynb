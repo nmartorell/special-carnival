{
  "metadata": {
    "kernelspec": {
      "name": "python3",
      "display_name": "Python 3",
      "language": "python"
    },
    "creator": "nmartorell",
    "createdOn": 1651875676483,
    "tags": [],
    "customFields": {},
    "hide_input": false,
    "language_info": {
      "name": "python",
      "version": "3.6.8",
      "mimetype": "text/x-python",
      "codemirror_mode": {
        "name": "ipython",
        "version": 3
      },
      "pygments_lexer": "ipython3",
      "nbconvert_exporter": "python",
      "file_extension": ".py"
    },
    "modifiedBy": "nmartorell"
  },
  "nbformat": 4,
  "nbformat_minor": 1,
  "cells": [
    {
      "execution_count": 0,
      "cell_type": "code",
      "metadata": {},
      "source": [
        "%pylab inline"
      ],
      "outputs": []
    },
    {
      "execution_count": 1,
      "cell_type": "code",
      "metadata": {},
      "source": [
        "import dataiku\nfrom dataiku import pandasutils as pdu\nimport pandas as pd"
      ],
      "outputs": []
    },
    {
      "execution_count": 2,
      "cell_type": "code",
      "metadata": {},
      "source": [
        "client \u003d dataiku.api_client()"
      ],
      "outputs": []
    },
    {
      "execution_count": 4,
      "cell_type": "code",
      "metadata": {},
      "source": [
        "proj \u003d client.get_project(dataiku.default_project_key())"
      ],
      "outputs": []
    },
    {
      "execution_count": 6,
      "cell_type": "code",
      "metadata": {},
      "source": [
        "settings \u003d proj.get_settings()"
      ],
      "outputs": []
    },
    {
      "execution_count": 7,
      "cell_type": "code",
      "metadata": {},
      "source": [
        "settings.settings"
      ],
      "outputs": [
        {
          "output_type": "execute_result",
          "execution_count": 7,
          "data": {
            "text/plain": "{\u0027exposedObjects\u0027: {\u0027objects\u0027: []},\n \u0027metrics\u0027: {\u0027displayedState\u0027: {\u0027columns\u0027: [], \u0027metrics\u0027: []},\n  \u0027engineConfig\u0027: {\u0027basic\u0027: {},\n   \u0027dss\u0027: {\u0027active\u0027: True,\n    \u0027selection\u0027: {\u0027filter\u0027: {\u0027distinct\u0027: False, \u0027enabled\u0027: False},\n     \u0027latestPartitionsN\u0027: 1,\n     \u0027maxReadUncompressedBytes\u0027: -1,\n     \u0027maxRecords\u0027: -1,\n     \u0027ordering\u0027: {\u0027enabled\u0027: False, \u0027rules\u0027: []},\n     \u0027partitionSelectionMethod\u0027: \u0027ALL\u0027,\n     \u0027samplingMethod\u0027: \u0027FULL\u0027,\n     \u0027targetRatio\u0027: 0.02,\n     \u0027useMemTable\u0027: False,\n     \u0027withinFirstN\u0027: -1}},\n   \u0027hive\u0027: {\u0027active\u0027: True, \u0027extraConf\u0027: []},\n   \u0027impala\u0027: {\u0027active\u0027: True},\n   \u0027padRunsWithMetrics\u0027: False,\n   \u0027python\u0027: {},\n   \u0027spark\u0027: {\u0027active\u0027: True, \u0027extraConf\u0027: []},\n   \u0027sql\u0027: {\u0027active\u0027: True}},\n  \u0027probes\u0027: []},\n \u0027metricsChecks\u0027: {\u0027checks\u0027: [],\n  \u0027displayedState\u0027: {\u0027checks\u0027: []},\n  \u0027runOnBuild\u0027: False},\n \u0027projectAppType\u0027: \u0027REGULAR\u0027,\n \u0027projectStatus\u0027: \u0027Sandbox\u0027,\n \u0027settings\u0027: {\u0027cluster\u0027: {\u0027clusterMode\u0027: \u0027INHERIT\u0027},\n  \u0027codeEnvs\u0027: {\u0027julia\u0027: {\u0027mode\u0027: \u0027INHERIT\u0027, \u0027preventOverride\u0027: False},\n   \u0027python\u0027: {\u0027mode\u0027: \u0027INHERIT\u0027, \u0027preventOverride\u0027: False},\n   \u0027r\u0027: {\u0027mode\u0027: \u0027INHERIT\u0027, \u0027preventOverride\u0027: False}},\n  \u0027container\u0027: {\u0027containerMode\u0027: \u0027INHERIT\u0027},\n  \u0027datasetsCreationSettings\u0027: {\u0027allowUploadsWithoutConnection\u0027: True,\n   \u0027preferedStorageFormats\u0027: \u0027CSV_ESCAPING_NOGZIP_FORHIVE,CSV_EXCEL_GZIP,PARQUET_HIVE\u0027,\n   \u0027useGlobal\u0027: True,\n   \u0027virtualizable\u0027: False},\n  \u0027disableAutomaticTriggers\u0027: False,\n  \u0027dkuProperties\u0027: [],\n  \u0027flowAnchorSourcesAndSinks\u0027: True,\n  \u0027flowBuildSettings\u0027: {\u0027mergeSparkPipelines\u0027: False,\n   \u0027mergeSqlPipelines\u0027: False,\n   \u0027pruneBeforeSparkPipelines\u0027: True,\n   \u0027pruneBeforeSqlPipelines\u0027: True},\n  \u0027flowDisplaySettings\u0027: {\u0027zonesGraphConnectZones\u0027: True,\n   \u0027zonesGraphRenderingAlgorithm\u0027: \u0027DOT_OLDRANK\u0027},\n  \u0027gitCommitMode\u0027: \u0027AUTO\u0027,\n  \u0027hiveEngineCreationSettings\u0027: {\u0027executionEngine\u0027: \u0027HIVECLI_LOCAL\u0027,\n   \u0027useGlobal\u0027: True},\n  \u0027impalaEngineCreationSettings\u0027: {\u0027streamMode\u0027: True, \u0027useGlobal\u0027: True},\n  \u0027integrations\u0027: {\u0027integrations\u0027: []},\n  \u0027k8sCluster\u0027: {\u0027clusterMode\u0027: \u0027INHERIT\u0027},\n  \u0027limitsSettings\u0027: {\u0027attachmentBytes\u0027: {\u0027hard\u0027: -1, \u0027soft\u0027: -1},\n   \u0027memSampleBytes\u0027: {\u0027hard\u0027: -1, \u0027soft\u0027: -1},\n   \u0027shakerMemTableBytes\u0027: {\u0027hard\u0027: -1, \u0027soft\u0027: -1}},\n  \u0027recipeEnginesPreferences\u0027: {\u0027enginesPreferenceOrder\u0027: [],\n   \u0027forbiddenByRecipeType\u0027: {},\n   \u0027forbiddenEngines\u0027: [],\n   \u0027preferenceByRecipeType\u0027: {}},\n  \u0027relocationSettings\u0027: {\u0027sqlLikeRecipesInitializationMode\u0027: \u0027RESOLVED_TABLE_REFERENCES\u0027},\n  \u0027sparkEngineCreationSettings\u0027: {\u0027executionEngine\u0027: \u0027SPARK_SUBMIT\u0027,\n   \u0027useGlobal\u0027: True,\n   \u0027useGlobalMetastore\u0027: False},\n  \u0027virtualWebAppBackendSettings\u0027: {\u0027infra\u0027: {\u0027containerSelection\u0027: {\u0027containerMode\u0027: \u0027INHERIT\u0027},\n    \u0027deploymentModifier\u0027: {},\n    \u0027exposition\u0027: {\u0027params\u0027: {}, \u0027type\u0027: \u0027local_process\u0027},\n    \u0027overrideGlobalK8sExposition\u0027: False,\n    \u0027scaling\u0027: {\u0027hpa\u0027: False,\n     \u0027hpaAnnotations\u0027: [],\n     \u0027hpaMaxPods\u0027: 0,\n     \u0027hpaMetrics\u0027: [],\n     \u0027hpaMinPods\u0027: 0,\n     \u0027hpaTargetCPUPercent\u0027: 0,\n     \u0027initialReplicas\u0027: 1}},\n   \u0027mode\u0027: \u0027INHERIT\u0027,\n   \u0027preventOverride\u0027: False},\n  \u0027wikiSettings\u0027: {\u0027promoted\u0027: False}}}"
          },
          "metadata": {}
        }
      ]
    },
    {
      "execution_count": 0,
      "cell_type": "code",
      "metadata": {},
      "source": [
        ""
      ],
      "outputs": []
    }
  ]
}