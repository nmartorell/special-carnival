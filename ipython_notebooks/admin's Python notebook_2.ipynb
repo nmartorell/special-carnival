{
  "metadata": {
    "kernelspec": {
      "name": "python3",
      "display_name": "Python 3",
      "language": "python"
    },
    "creator": "admin",
    "createdOn": 1682627520706,
    "tags": [],
    "customFields": {},
    "hide_input": false,
    "language_info": {
      "name": "python",
      "version": "3.6.8",
      "mimetype": "text/x-python",
      "codemirror_mode": {
        "name": "ipython",
        "version": 3
      },
      "pygments_lexer": "ipython3",
      "nbconvert_exporter": "python",
      "file_extension": ".py"
    },
    "modifiedBy": "admin"
  },
  "nbformat": 4,
  "nbformat_minor": 1,
  "cells": [
    {
      "execution_count": 0,
      "cell_type": "code",
      "metadata": {},
      "source": [
        "%pylab inline"
      ],
      "outputs": []
    },
    {
      "execution_count": 0,
      "cell_type": "code",
      "metadata": {},
      "source": [
        "import dataiku\nimport requests"
      ],
      "outputs": []
    },
    {
      "execution_count": 0,
      "cell_type": "code",
      "metadata": {},
      "source": [
        "client \u003d dataiku.api_client()\nproject \u003d client.get_project(dataiku.default_project_key())"
      ],
      "outputs": []
    },
    {
      "execution_count": 0,
      "cell_type": "code",
      "metadata": {},
      "source": [
        "# Information that I need to grab:\n# - current project folder id\n# - new branch name -\u003e from user input\n\nfolder_id \u003d project.get_project_folder().id\nbranch_name \u003d \"test\""
      ],
      "outputs": []
    },
    {
      "execution_count": 0,
      "cell_type": "code",
      "metadata": {},
      "source": [
        "requests.post"
      ],
      "outputs": []
    },
    {
      "execution_count": 0,
      "cell_type": "code",
      "metadata": {},
      "source": [
        "data \u003d {\"exportAnalysisModels\":true,\n        \"exportSavedModels\":true,\n        \"exportModelEvaluationStores\":false,\n        \"exportGitRepository\":true,\n        \"exportInsightsData\":true,\n        \"duplicationMode\":\"UPLOADS_ONLY\",\n        \"exportUploads\":true,\n        \"exportAllInputDatasets\":false,\n        \"exportAllInputManagedFolders\":false,\n        \"exportAllDatasets\":false,\n        \"exportManagedFolders\":false,\n        \"exportNotebooksWithOutputs\":true,\n        \"targetProjectFolderId\":null,\n        \"targetProjectKey\":\"COX_BOB\",\n        \"targetProjectName\":\"COX (bob)\",\n        \"createBranch\":true,\n        \"targetBranchName\":\"bob\"}"
      ],
      "outputs": []
    }
  ]
}